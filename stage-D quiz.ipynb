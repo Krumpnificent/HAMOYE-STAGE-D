{
 "cells": [
  {
   "cell_type": "code",
   "execution_count": 1,
   "metadata": {},
   "outputs": [],
   "source": [
    "import pandas as pd\n",
    "import numpy as np"
   ]
  },
  {
   "cell_type": "code",
   "execution_count": 2,
   "metadata": {},
   "outputs": [],
   "source": [
    "fs = pd.read_csv('Africa Food Supply (2004 - 2013).csv')"
   ]
  },
  {
   "cell_type": "code",
   "execution_count": 3,
   "metadata": {},
   "outputs": [],
   "source": [
    "fp = pd.read_csv('Africa Food Production (2004 - 2013).csv')"
   ]
  },
  {
   "cell_type": "code",
   "execution_count": 4,
   "metadata": {},
   "outputs": [
    {
     "data": {
      "text/html": [
       "<div>\n",
       "<style scoped>\n",
       "    .dataframe tbody tr th:only-of-type {\n",
       "        vertical-align: middle;\n",
       "    }\n",
       "\n",
       "    .dataframe tbody tr th {\n",
       "        vertical-align: top;\n",
       "    }\n",
       "\n",
       "    .dataframe thead th {\n",
       "        text-align: right;\n",
       "    }\n",
       "</style>\n",
       "<table border=\"1\" class=\"dataframe\">\n",
       "  <thead>\n",
       "    <tr style=\"text-align: right;\">\n",
       "      <th></th>\n",
       "      <th>Country</th>\n",
       "      <th>Item</th>\n",
       "      <th>Year</th>\n",
       "      <th>Value</th>\n",
       "    </tr>\n",
       "  </thead>\n",
       "  <tbody>\n",
       "    <tr>\n",
       "      <th>0</th>\n",
       "      <td>Algeria</td>\n",
       "      <td>Wheat and products</td>\n",
       "      <td>2004</td>\n",
       "      <td>2731</td>\n",
       "    </tr>\n",
       "    <tr>\n",
       "      <th>1</th>\n",
       "      <td>Algeria</td>\n",
       "      <td>Wheat and products</td>\n",
       "      <td>2005</td>\n",
       "      <td>2415</td>\n",
       "    </tr>\n",
       "    <tr>\n",
       "      <th>2</th>\n",
       "      <td>Algeria</td>\n",
       "      <td>Wheat and products</td>\n",
       "      <td>2006</td>\n",
       "      <td>2688</td>\n",
       "    </tr>\n",
       "    <tr>\n",
       "      <th>3</th>\n",
       "      <td>Algeria</td>\n",
       "      <td>Wheat and products</td>\n",
       "      <td>2007</td>\n",
       "      <td>2319</td>\n",
       "    </tr>\n",
       "    <tr>\n",
       "      <th>4</th>\n",
       "      <td>Algeria</td>\n",
       "      <td>Wheat and products</td>\n",
       "      <td>2008</td>\n",
       "      <td>1111</td>\n",
       "    </tr>\n",
       "    <tr>\n",
       "      <th>...</th>\n",
       "      <td>...</td>\n",
       "      <td>...</td>\n",
       "      <td>...</td>\n",
       "      <td>...</td>\n",
       "    </tr>\n",
       "    <tr>\n",
       "      <th>23105</th>\n",
       "      <td>Zimbabwe</td>\n",
       "      <td>Crustaceans</td>\n",
       "      <td>2009</td>\n",
       "      <td>0</td>\n",
       "    </tr>\n",
       "    <tr>\n",
       "      <th>23106</th>\n",
       "      <td>Zimbabwe</td>\n",
       "      <td>Crustaceans</td>\n",
       "      <td>2010</td>\n",
       "      <td>0</td>\n",
       "    </tr>\n",
       "    <tr>\n",
       "      <th>23107</th>\n",
       "      <td>Zimbabwe</td>\n",
       "      <td>Crustaceans</td>\n",
       "      <td>2011</td>\n",
       "      <td>0</td>\n",
       "    </tr>\n",
       "    <tr>\n",
       "      <th>23108</th>\n",
       "      <td>Zimbabwe</td>\n",
       "      <td>Crustaceans</td>\n",
       "      <td>2012</td>\n",
       "      <td>0</td>\n",
       "    </tr>\n",
       "    <tr>\n",
       "      <th>23109</th>\n",
       "      <td>Zimbabwe</td>\n",
       "      <td>Crustaceans</td>\n",
       "      <td>2013</td>\n",
       "      <td>0</td>\n",
       "    </tr>\n",
       "  </tbody>\n",
       "</table>\n",
       "<p>23110 rows × 4 columns</p>\n",
       "</div>"
      ],
      "text/plain": [
       "        Country                Item  Year  Value\n",
       "0       Algeria  Wheat and products  2004   2731\n",
       "1       Algeria  Wheat and products  2005   2415\n",
       "2       Algeria  Wheat and products  2006   2688\n",
       "3       Algeria  Wheat and products  2007   2319\n",
       "4       Algeria  Wheat and products  2008   1111\n",
       "...         ...                 ...   ...    ...\n",
       "23105  Zimbabwe         Crustaceans  2009      0\n",
       "23106  Zimbabwe         Crustaceans  2010      0\n",
       "23107  Zimbabwe         Crustaceans  2011      0\n",
       "23108  Zimbabwe         Crustaceans  2012      0\n",
       "23109  Zimbabwe         Crustaceans  2013      0\n",
       "\n",
       "[23110 rows x 4 columns]"
      ]
     },
     "execution_count": 4,
     "metadata": {},
     "output_type": "execute_result"
    }
   ],
   "source": [
    "fp"
   ]
  },
  {
   "cell_type": "code",
   "execution_count": 5,
   "metadata": {},
   "outputs": [],
   "source": [
    "rice = fp[fp['Item'].str.contains('Rice')]"
   ]
  },
  {
   "cell_type": "code",
   "execution_count": 6,
   "metadata": {},
   "outputs": [
    {
     "data": {
      "text/plain": [
       "Country\n",
       "Egypt                          40370\n",
       "Nigeria                        26964\n",
       "Madagascar                     26118\n",
       "United Republic of Tanzania    10956\n",
       "Guinea                         10400\n",
       "Mali                           10371\n",
       "Cote d'Ivoire                   6439\n",
       "Sierra Leone                    6038\n",
       "Senegal                         2462\n",
       "Ghana                           2443\n",
       "Liberia                         1602\n",
       "Burkina Faso                    1265\n",
       "Uganda                          1234\n",
       "Chad                            1167\n",
       "Mozambique                      1110\n",
       "Guinea-Bissau                   1030\n",
       "Benin                            850\n",
       "Cameroon                         767\n",
       "Mauritania                       751\n",
       "Malawi                           674\n",
       "Togo                             653\n",
       "Kenya                            504\n",
       "Rwanda                           482\n",
       "Ethiopia                         469\n",
       "Gambia                           325\n",
       "Morocco                          274\n",
       "Niger                            267\n",
       "Central African Republic         261\n",
       "Zambia                           212\n",
       "Sudan                            170\n",
       "Angola                           103\n",
       "South Africa                      22\n",
       "Gabon                             10\n",
       "Congo                             10\n",
       "Zimbabwe                           1\n",
       "Mauritius                          1\n",
       "Swaziland                          0\n",
       "Algeria                            0\n",
       "Name: Value, dtype: int64"
      ]
     },
     "execution_count": 6,
     "metadata": {},
     "output_type": "execute_result"
    }
   ],
   "source": [
    "rice.groupby('Country')['Value'].sum().sort_values(ascending = False)"
   ]
  },
  {
   "cell_type": "code",
   "execution_count": 7,
   "metadata": {},
   "outputs": [],
   "source": [
    "fs['Year'] = fs['Year'].astype('str')"
   ]
  },
  {
   "cell_type": "code",
   "execution_count": 8,
   "metadata": {},
   "outputs": [],
   "source": [
    "temp  = fs[fs['Year'].str.contains('2004|2005|2006')]"
   ]
  },
  {
   "cell_type": "code",
   "execution_count": 9,
   "metadata": {},
   "outputs": [
    {
     "data": {
      "text/plain": [
       "Index(['Country', 'Year', 'Value'], dtype='object')"
      ]
     },
     "execution_count": 9,
     "metadata": {},
     "output_type": "execute_result"
    }
   ],
   "source": [
    "temp.columns"
   ]
  },
  {
   "cell_type": "code",
   "execution_count": 10,
   "metadata": {
    "scrolled": true
   },
   "outputs": [
    {
     "data": {
      "text/plain": [
       "Country\n",
       "Zambia                          5577\n",
       "Ethiopia                        5827\n",
       "Central African Republic        6044\n",
       "Rwanda                          6050\n",
       "Chad                            6082\n",
       "Madagascar                      6123\n",
       "Zimbabwe                        6184\n",
       "Mozambique                      6208\n",
       "Angola                          6226\n",
       "Sierra Leone                    6261\n",
       "Kenya                           6344\n",
       "Liberia                         6368\n",
       "United Republic of Tanzania     6373\n",
       "Congo                           6449\n",
       "Botswana                        6539\n",
       "Malawi                          6626\n",
       "Djibouti                        6715\n",
       "Namibia                         6741\n",
       "Togo                            6767\n",
       "Guinea-Bissau                   6783\n",
       "Senegal                         6795\n",
       "Sudan                           6898\n",
       "Cameroon                        6911\n",
       "Uganda                          6954\n",
       "Swaziland                       7166\n",
       "Gambia                          7304\n",
       "Niger                           7339\n",
       "Benin                           7346\n",
       "Guinea                          7372\n",
       "Burkina Faso                    7527\n",
       "Cabo Verde                      7553\n",
       "Sao Tome and Principe           7613\n",
       "Lesotho                         7703\n",
       "Mali                            7777\n",
       "Mauritania                      7831\n",
       "Nigeria                         8085\n",
       "Gabon                           8107\n",
       "Ghana                           8257\n",
       "Cote d'Ivoire                   8308\n",
       "South Africa                    8819\n",
       "Algeria                         8992\n",
       "Mauritius                       9054\n",
       "Morocco                         9740\n",
       "Tunisia                         9741\n",
       "Egypt                          10065\n",
       "Name: Value, dtype: int64"
      ]
     },
     "execution_count": 10,
     "metadata": {},
     "output_type": "execute_result"
    }
   ],
   "source": [
    "temp.groupby('Country')['Value'].sum().sort_values(ascending = True)"
   ]
  },
  {
   "cell_type": "code",
   "execution_count": 11,
   "metadata": {},
   "outputs": [],
   "source": [
    "fp['Year'] = fp['Year'].astype(str)"
   ]
  },
  {
   "cell_type": "code",
   "execution_count": 12,
   "metadata": {},
   "outputs": [],
   "source": [
    "a = fp[fp['Item'].str.contains('Oats')]"
   ]
  },
  {
   "cell_type": "code",
   "execution_count": 13,
   "metadata": {},
   "outputs": [
    {
     "data": {
      "text/html": [
       "<div>\n",
       "<style scoped>\n",
       "    .dataframe tbody tr th:only-of-type {\n",
       "        vertical-align: middle;\n",
       "    }\n",
       "\n",
       "    .dataframe tbody tr th {\n",
       "        vertical-align: top;\n",
       "    }\n",
       "\n",
       "    .dataframe thead th {\n",
       "        text-align: right;\n",
       "    }\n",
       "</style>\n",
       "<table border=\"1\" class=\"dataframe\">\n",
       "  <thead>\n",
       "    <tr style=\"text-align: right;\">\n",
       "      <th></th>\n",
       "      <th>Country</th>\n",
       "      <th>Item</th>\n",
       "      <th>Year</th>\n",
       "      <th>Value</th>\n",
       "    </tr>\n",
       "  </thead>\n",
       "  <tbody>\n",
       "    <tr>\n",
       "      <th>46</th>\n",
       "      <td>Algeria</td>\n",
       "      <td>Oats</td>\n",
       "      <td>2010</td>\n",
       "      <td>88</td>\n",
       "    </tr>\n",
       "    <tr>\n",
       "      <th>6406</th>\n",
       "      <td>Ethiopia</td>\n",
       "      <td>Oats</td>\n",
       "      <td>2010</td>\n",
       "      <td>48</td>\n",
       "    </tr>\n",
       "    <tr>\n",
       "      <th>7746</th>\n",
       "      <td>Ghana</td>\n",
       "      <td>Oats</td>\n",
       "      <td>2010</td>\n",
       "      <td>0</td>\n",
       "    </tr>\n",
       "    <tr>\n",
       "      <th>9286</th>\n",
       "      <td>Kenya</td>\n",
       "      <td>Oats</td>\n",
       "      <td>2010</td>\n",
       "      <td>3</td>\n",
       "    </tr>\n",
       "    <tr>\n",
       "      <th>10026</th>\n",
       "      <td>Lesotho</td>\n",
       "      <td>Oats</td>\n",
       "      <td>2010</td>\n",
       "      <td>0</td>\n",
       "    </tr>\n",
       "    <tr>\n",
       "      <th>13186</th>\n",
       "      <td>Morocco</td>\n",
       "      <td>Oats</td>\n",
       "      <td>2010</td>\n",
       "      <td>37</td>\n",
       "    </tr>\n",
       "    <tr>\n",
       "      <th>17816</th>\n",
       "      <td>South Africa</td>\n",
       "      <td>Oats</td>\n",
       "      <td>2010</td>\n",
       "      <td>34</td>\n",
       "    </tr>\n",
       "    <tr>\n",
       "      <th>20056</th>\n",
       "      <td>Tunisia</td>\n",
       "      <td>Oats</td>\n",
       "      <td>2010</td>\n",
       "      <td>2</td>\n",
       "    </tr>\n",
       "    <tr>\n",
       "      <th>22516</th>\n",
       "      <td>Zimbabwe</td>\n",
       "      <td>Oats</td>\n",
       "      <td>2010</td>\n",
       "      <td>1</td>\n",
       "    </tr>\n",
       "  </tbody>\n",
       "</table>\n",
       "</div>"
      ],
      "text/plain": [
       "            Country  Item  Year  Value\n",
       "46          Algeria  Oats  2010     88\n",
       "6406       Ethiopia  Oats  2010     48\n",
       "7746          Ghana  Oats  2010      0\n",
       "9286          Kenya  Oats  2010      3\n",
       "10026       Lesotho  Oats  2010      0\n",
       "13186       Morocco  Oats  2010     37\n",
       "17816  South Africa  Oats  2010     34\n",
       "20056       Tunisia  Oats  2010      2\n",
       "22516      Zimbabwe  Oats  2010      1"
      ]
     },
     "execution_count": 13,
     "metadata": {},
     "output_type": "execute_result"
    }
   ],
   "source": [
    "a[a.Year == '2010']"
   ]
  },
  {
   "cell_type": "code",
   "execution_count": null,
   "metadata": {},
   "outputs": [],
   "source": []
  }
 ],
 "metadata": {
  "kernelspec": {
   "display_name": "Python 3",
   "language": "python",
   "name": "python3"
  },
  "language_info": {
   "codemirror_mode": {
    "name": "ipython",
    "version": 3
   },
   "file_extension": ".py",
   "mimetype": "text/x-python",
   "name": "python",
   "nbconvert_exporter": "python",
   "pygments_lexer": "ipython3",
   "version": "3.8.5"
  }
 },
 "nbformat": 4,
 "nbformat_minor": 4
}
